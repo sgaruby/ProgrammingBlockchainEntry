{
 "cells": [
  {
   "cell_type": "markdown",
   "metadata": {},
   "source": [
    "# London - Programming Blockchain Scholarship Entry"
   ]
  },
  {
   "cell_type": "markdown",
   "metadata": {},
   "source": [
    "Here is my Jimmy Song's - Programming Blockchain Scholarship Entry for the London master classes. \n",
    "\n",
    "For context, the aim here is to produce a Python function capable of selecting two Bitcoin amounts from a list of possible Bitcoin that I control (inputs) that is able to pay someone exactly 0.71 BTC (target), keeping the change output to a minimum."
   ]
  },
  {
   "cell_type": "markdown",
   "metadata": {
    "collapsed": true
   },
   "source": [
    "The modules **'NumPy'** and **'Random'** were chosen to simplify creating a list, or an array in this case, filled with random BTC inputs, that in this scenario, I have control of."
   ]
  },
  {
   "cell_type": "code",
   "execution_count": 1,
   "metadata": {
    "collapsed": true
   },
   "outputs": [],
   "source": [
    "import numpy as np\n",
    "import random"
   ]
  },
  {
   "cell_type": "markdown",
   "metadata": {},
   "source": [
    "An array of *n* many Bitcoin inputs is randomly produced. I've chosen to randomly pick numbers between 0 - 1 (to comply with the question's *'target'* Bitcoin amount of 0.71 BTC) from a uniform distribution. There are many other ways to create a list such as this however this method was chosen for ease.\n",
    "\n",
    "*n* was chosen to be 100 as this is large enough to show the function can scale and small enough to probabilistically show a large enough minimum change output for this specific example. "
   ]
  },
  {
   "cell_type": "code",
   "execution_count": 2,
   "metadata": {},
   "outputs": [
    {
     "data": {
      "text/plain": [
       "array([ 0.26369566,  0.54309572,  0.33829863,  0.33508955,  0.54299878,\n",
       "        0.607457  ,  0.01261658,  0.46310797,  0.02487822,  0.9889333 ,\n",
       "        0.95019513,  0.94141906,  0.27915991,  0.71812839,  0.35333619,\n",
       "        0.50688637,  0.92124625,  0.66707003,  0.09069029,  0.16410348,\n",
       "        0.63801259,  0.87246663,  0.9022877 ,  0.69527501,  0.00570654,\n",
       "        0.8124969 ,  0.54388905,  0.11283136,  0.67854708,  0.34708516,\n",
       "        0.80352785,  0.5840307 ,  0.12628498,  0.53406109,  0.76517802,\n",
       "        0.52777129,  0.2366248 ,  0.2881165 ,  0.09225568,  0.57469148,\n",
       "        0.29683719,  0.66508538,  0.01693079,  0.29714287,  0.16983013,\n",
       "        0.38805241,  0.45210211,  0.84557784,  0.46977538,  0.23194398,\n",
       "        0.22912105,  0.94536839,  0.59882082,  0.61281996,  0.33581043,\n",
       "        0.74734568,  0.60354207,  0.86493978,  0.2034594 ,  0.46949035,\n",
       "        0.81001026,  0.70488518,  0.96515921,  0.42046946,  0.28054668,\n",
       "        0.81643524,  0.20801314,  0.67143306,  0.68349936,  0.03569573,\n",
       "        0.78555978,  0.69074676,  0.14141966,  0.92237736,  0.39553946,\n",
       "        0.98356714,  0.16200778,  0.49923048,  0.66648142,  0.28343381,\n",
       "        0.83839324,  0.63470587,  0.3084292 ,  0.20840414,  0.64746419,\n",
       "        0.16853472,  0.71068056,  0.23708879,  0.20170511,  0.4571856 ,\n",
       "        0.71033333,  0.00259158,  0.19656605,  0.76752467,  0.09013393,\n",
       "        0.90220683,  0.32883067,  0.98924165,  0.70902997,  0.36119008])"
      ]
     },
     "execution_count": 2,
     "metadata": {},
     "output_type": "execute_result"
    }
   ],
   "source": [
    "n=100\n",
    "list_BTC = np.random.rand(n)\n",
    "list_BTC"
   ]
  },
  {
   "cell_type": "markdown",
   "metadata": {},
   "source": [
    "The main function, **'input_selection'**, takes the *target* amount of bitcoin owed to someone (in this scenario 0.71 BTC) and the list were the input amount of Bitcoin's are stored and outputs the two input bitcoin amounts from the list to satisfy the payment with minimum change (excluding fees). "
   ]
  },
  {
   "cell_type": "code",
   "execution_count": 3,
   "metadata": {
    "collapsed": true
   },
   "outputs": [],
   "source": [
    "def input_selection(target,list_BTC):\n",
    "    min_diff = -21000000\n",
    "    input_1 = 0\n",
    "    input_2 = 0\n",
    "\n",
    "    for k in range(0,len(list_BTC)):\n",
    "        for i in range(0,len(list_BTC)):\n",
    "            if k == i:\n",
    "                pass\n",
    "            else:\n",
    "                diff = target - (list_BTC[k]+list_BTC[i])\n",
    "                if diff < 0:\n",
    "                    if diff > min_diff:\n",
    "                        min_diff = diff\n",
    "                        input_1 = list_BTC[k]\n",
    "                        input_2 = list_BTC[i]\n",
    "    return input_1, input_2"
   ]
  },
  {
   "cell_type": "markdown",
   "metadata": {},
   "source": [
    "The logic behind the function works as so.\n",
    "\n",
    "Two *for* loops are required to sum each input in the list by each of the other inputs in the same list before subtracting this sum value from the target. This value forms the difference to be stored as *'min_diff'*.\n",
    "\n",
    "The difference must be less than 0 as this means that the sum of the two inputs is large enough for the payment. With each iteration, *min_diff* is checked to see if it is greater than the previous *min_diff* entry, saving the input BTC values used simultaneously. Since all of the differences which satisfy the *if* statement are less than zero the inputs that provide the lowest-magnitude-negative value thus provide the minimum change output for the payment. Because of this method, a large magnitude negative value must be initialised to ensure scalability of the function for larger value targets/inputs, unlike this example question. *-21 million (BTC)* was used as a safe option since there can never be Bitcoin over this value.\n",
    "\n",
    "The process repeats and the *min_diff* value changes to a better contender *min_diff* value until the end - at which point the optimum input candidates have been chosen. The function returns these values. \n",
    "\n",
    "An example of the function working is shown below. Printed also are the relevant numbers made from the function outputs and also using the target:\n",
    "\n",
    "**- the two Bitcoin amounts stored in *'list_BTC'* that make up the target amount** \n",
    "\n",
    "**- the total amount spent**\n",
    "\n",
    "**- the change, excluding fees (difference between total amount spent and target amount)**"
   ]
  },
  {
   "cell_type": "code",
   "execution_count": 4,
   "metadata": {
    "collapsed": true
   },
   "outputs": [],
   "source": [
    "target = 0.71\n",
    "x,y = input_selection(target,list_BTC)"
   ]
  },
  {
   "cell_type": "code",
   "execution_count": 5,
   "metadata": {},
   "outputs": [
    {
     "name": "stdout",
     "output_type": "stream",
     "text": [
      "Input 1 = 0.584030703387\n",
      "Input 2 = 0.12628497696\n",
      "Total paid = 0.710315680347\n",
      "Change Output = 0.00031568034705\n"
     ]
    }
   ],
   "source": [
    "print(\"Input 1 = \" + str(x))\n",
    "print(\"Input 2 = \" + str(y))\n",
    "print(\"Total paid = \" + str(x + y))\n",
    "print(\"Change Output = \" + str(abs(target-(x+y))))"
   ]
  }
 ],
 "metadata": {
  "kernelspec": {
   "display_name": "Python 3",
   "language": "python",
   "name": "python3"
  },
  "language_info": {
   "codemirror_mode": {
    "name": "ipython",
    "version": 3
   },
   "file_extension": ".py",
   "mimetype": "text/x-python",
   "name": "python",
   "nbconvert_exporter": "python",
   "pygments_lexer": "ipython3",
   "version": "3.6.1"
  }
 },
 "nbformat": 4,
 "nbformat_minor": 2
}
